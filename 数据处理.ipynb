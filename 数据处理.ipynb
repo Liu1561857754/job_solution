{
 "cells": [
  {
   "cell_type": "code",
   "execution_count": 1,
   "metadata": {},
   "outputs": [],
   "source": [
    "from datetime import datetime, date, timedelta\n",
    "\n",
    "yesterday = date.today() + timedelta(days = -1)    # 昨天日期\n",
    "new_str = yesterday.strftime('%Y%m%d')\n",
    "old_str = (date.today() + timedelta(days = -2)).strftime('%Y%m%d')\n",
    "old_str_1 = (date.today() + timedelta(days = -3)).strftime('%Y%m%d')\n",
    "dt =  date.today().strftime('%d')\n",
    "\n",
    "file = 'E:/亚信/8-%s/日报一套-最新版本/日报8-%s-修改.sql'%(dt,dt)\n",
    "file_1 = 'E:/亚信/8-%s/日报一套-最新版本/日报8-%s-修改_1.sql'%(dt,dt)\n",
    "import os\n",
    "with open(file,encoding=\"utf-8\")as f1,open(\"E:/亚信/8-%s/日报一套-最新版本/s.bak\"%dt, \"w\", encoding=\"utf-8\") as f2:\n",
    "    for lin in f1:\n",
    "        if old_str in lin:\n",
    "            lin = lin.replace(old_str, new_str)\n",
    "        if old_str_1 in lin:\n",
    "            lin = lin.replace(old_str_1, old_str)            \n",
    "        f2.write(lin)\n",
    "os.remove(file)\n",
    "os.rename(\"E:/亚信/8-%s/日报一套-最新版本/s.bak\"%dt, file_1)\n",
    "    "
   ]
  },
  {
   "cell_type": "code",
   "execution_count": 52,
   "metadata": {},
   "outputs": [
    {
     "data": {
      "text/plain": [
       "'17'"
      ]
     },
     "execution_count": 52,
     "metadata": {},
     "output_type": "execute_result"
    }
   ],
   "source": [
    "from datetime import datetime, date, timedelta\n",
    "\n",
    "yesterday = date.today() + timedelta(days = -2)    # 昨天日期\n",
    "yesterday.strftime('%Y%m%d')\n",
    "old_str = (date.today() + timedelta(days = -2)).strftime('%d')\n",
    "old_str\n"
   ]
  },
  {
   "cell_type": "code",
   "execution_count": 2,
   "metadata": {},
   "outputs": [
    {
     "data": {
      "text/plain": [
       "'E:/亚信/8-20/日报一套-最新版本/日报8-20-修改.sql'"
      ]
     },
     "execution_count": 2,
     "metadata": {},
     "output_type": "execute_result"
    }
   ],
   "source": [
    "dt =  date.today().strftime('%d')\n",
    "file = 'E:/亚信/8-%s/日报一套-最新版本/日报8-%s-修改.sql'%(dt,dt)\n",
    "file"
   ]
  },
  {
   "cell_type": "code",
   "execution_count": null,
   "metadata": {},
   "outputs": [],
   "source": []
  }
 ],
 "metadata": {
  "kernelspec": {
   "display_name": "Python 3",
   "language": "python",
   "name": "python3"
  },
  "language_info": {
   "codemirror_mode": {
    "name": "ipython",
    "version": 3
   },
   "file_extension": ".py",
   "mimetype": "text/x-python",
   "name": "python",
   "nbconvert_exporter": "python",
   "pygments_lexer": "ipython3",
   "version": "3.6.5"
  }
 },
 "nbformat": 4,
 "nbformat_minor": 2
}
