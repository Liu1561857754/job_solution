{
 "cells": [
  {
   "cell_type": "code",
   "execution_count": 11,
   "metadata": {},
   "outputs": [],
   "source": [
    "from datetime import datetime, date, timedelta\n",
    "\n",
    "yesterday = date.today() + timedelta(days = -1)    # 昨天日期\n",
    "new_str = yesterday.strftime('%Y%m%d')\n",
    "old_str = (date.today() + timedelta(days = -2)).strftime('%Y%m%d')\n",
    "old_str_1 = (date.today() + timedelta(days = -3)).strftime('%Y%m%d')\n",
    "dt =  date.today().strftime('%d')\n",
    "\n",
    "file = 'E:/亚信/8-%s/日报一套-最新版本/日报8-%s-修改.sql'%(dt,dt)\n",
    "file_1 = 'E:/亚信/8-%s/日报一套-最新版本/日报8-%s-修改_1.sql'%(dt,dt)\n",
    "import os\n",
    "with open(file,encoding=\"utf-8\")as f1,open(\"E:/亚信/8-%s/日报一套-最新版本/s.bak\"%dt, \"w\", encoding=\"utf-8\") as f2:\n",
    "    for lin in f1:\n",
    "        if old_str in lin:\n",
    "            lin = lin.replace(old_str, new_str)\n",
    "        if old_str_1 in lin:\n",
    "            lin = lin.replace(old_str_1, old_str)            \n",
    "        f2.write(lin)\n",
    "os.remove(file)\n",
    "os.rename(\"E:/亚信/8-%s/日报一套-最新版本/s.bak\"%dt, file_1)\n"
   ]
  },
  {
   "cell_type": "code",
   "execution_count": 10,
   "metadata": {},
   "outputs": [
    {
     "data": {
      "text/plain": [
       "'E:/亚信/8-21/日报一套-最新版本/日报8-21-修改.sql'"
      ]
     },
     "execution_count": 10,
     "metadata": {},
     "output_type": "execute_result"
    }
   ],
   "source": [
    "file = 'E:/亚信/8-%s/日报一套-最新版本/日报8-%s-修改.sql'%(dt,dt)\n",
    "file"
   ]
  },
  {
   "cell_type": "code",
   "execution_count": 3,
   "metadata": {},
   "outputs": [
    {
     "data": {
      "text/plain": [
       "'E:/亚信/8-21/日报一套-最新版本/日报8-21-修改.sql'"
      ]
     },
     "execution_count": 3,
     "metadata": {},
     "output_type": "execute_result"
    }
   ],
   "source": [
    "dt =  date.today().strftime('%d')\n",
    "file = 'E:/亚信/8-%s/日报一套-最新版本/日报8-%s-修改.sql'%(dt,dt)\n",
    "file"
   ]
  },
  {
   "cell_type": "code",
   "execution_count": 158,
   "metadata": {},
   "outputs": [],
   "source": [
    "import pandas as pd\n",
    "'''\n",
    "pd.set_option('max_columns',1000)\n",
    "pd.set_option('max_row',300)\n",
    "pd.set_option('display.float_format', lambda x: '%.5f' % x)\n",
    "'''\n",
    "a = pd.read_excel(\"E:\\亚信\\8-%s\\日报一套-最新版本/8-%s号过程表-对应顺序.xlsx\")%(dt,dt)\n",
    "b = pd.read_excel(\"E:\\亚信\\8-%s\\日报一套-最新版本/7月重点客户运营目标值及增收计划201908%s新版本--合计修改版.xlsx\")%(dt,dt)\n",
    "code = ['超级家优惠包（月包）','流量可选包（半年包）','新业务叠加包（半年包）','承诺消费送自有产品']\n",
    "for i in range(2,12):\n",
    "    b['Unnamed: 6'][i] = a['Unnamed: 2'][i]\n",
    "b['Unnamed: 6'][12] = a['Unnamed: 2'][14]\n",
    "for j in range(1,11):\n",
    "    for i in range(1,64):\n",
    "        if a['办理产品用户统计'][i] == j:\n",
    "            if a['Unnamed: 5'][i] == code[0]:\n",
    "                b['Unnamed: 8'][j+1] = a['Unnamed: 6'][i]\n",
    "            if a['Unnamed: 5'][i] == code[1]:\n",
    "                b['Unnamed: 9'][j+1] = a['Unnamed: 6'][i]\n",
    "            if a['Unnamed: 5'][i] == code[2]:\n",
    "                b['Unnamed: 10'][j+1] = a['Unnamed: 6'][i]\n",
    "            if a['Unnamed: 5'][i] == code[3]:\n",
    "                b['Unnamed: 11'][j+1] = a['Unnamed: 6'][i]\n",
    "        \n",
    "bn = ['Unnamed: {}'.format(str(i)) for i in range(1,28)]\n",
    "bn[19] = '超级家升档（仅增收）'\n",
    "bn[23] = '承诺消费送自有产品'\n",
    "for i in range(1,6):\n",
    "    for j in range(0,4):\n",
    "        if a['办理产品统计合计'][i] == code[j]:\n",
    "            b[bn[j+7]][13] = a['Unnamed: 13'][i]\n",
    "            b[bn[j+7]][12] = a['Unnamed: 14'][i]  \n",
    "for i in range(1,5):\n",
    "    for j in range(0,4):\n",
    "        if a['月累计统计'][i] ==  code[j]:\n",
    "            b[bn[j+7]][14] = a['Unnamed: 49'][i]\n",
    "        \n",
    "\n",
    "\n",
    "            \n",
    "qd_code = ['电渠','外呼','呼入','实体']\n",
    "for j in range(1,11):\n",
    "    for i in range(1,64):\n",
    "        if a['Unnamed: 19'][i] == j:\n",
    "            if a['渠道统计'][i] == qd_code[0]:\n",
    "                b['Unnamed: 13'][j+15] = a['Unnamed: 21'][i]\n",
    "            if a['渠道统计'][i] == qd_code[1]:\n",
    "                b['Unnamed: 14'][j+15] = a['Unnamed: 21'][i]\n",
    "            if a['渠道统计'][i] == qd_code[2]:\n",
    "                b['Unnamed: 15'][j+15] = a['Unnamed: 21'][i]\n",
    "            if a['渠道统计'][i] == qd_code[3]:\n",
    "                b['Unnamed: 16'][j+15] = a['Unnamed: 21'][i]\n",
    "for i in range(1,6):\n",
    "    for j in range(0,4):\n",
    "        if a['渠道统计合计'][i] == qd_code[j]:\n",
    "            b[bn[j+12]][27] = a['Unnamed: 25'][i]\n",
    "            b[bn[j+12]][26] = a['Unnamed: 26'][i] \n",
    "for i in range(1,5):\n",
    "    for j in range(0,4):\n",
    "        if a['渠道'][i] ==  qd_code[j]:\n",
    "            b[bn[j+12]][28] = a['Unnamed: 55'][i]\n",
    "            \n",
    "            \n",
    "            \n",
    "for j in range(1,11):\n",
    "    for i in range(1,len(a)):\n",
    "        if a['渠道统计(超级家升档、承诺消费送自有产品)'][i] == j and a['Unnamed: 30'][i] == '超级家升档':\n",
    "            if a['Unnamed: 31'][i] == qd_code[0]:\n",
    "                b['超级家升档（仅增收）'][j+1] = a['Unnamed: 32'][i]\n",
    "            if a['Unnamed: 31'][i] == qd_code[1]:\n",
    "                b['Unnamed: 21'][j+1] = a['Unnamed: 32'][i]\n",
    "            if a['Unnamed: 31'][i] == qd_code[2]:\n",
    "                b['Unnamed: 22'][j+1] = a['Unnamed: 32'][i]\n",
    "            if a['Unnamed: 31'][i] == qd_code[3]:\n",
    "                b['Unnamed: 23'][j+1] = a['Unnamed: 32'][i]\n",
    "for i in range(1,9):\n",
    "    for j in range(0,4):\n",
    "        if a['Unnamed: 37'][i] == qd_code[j] and a['渠道统计(超级家升档、承诺消费送自有产品)合计'][i] == '超级家升档':\n",
    "            b[bn[j+19]][13] = a['Unnamed: 38'][i]\n",
    "            b[bn[j+19]][12] = a['Unnamed: 39'][i]             \n",
    "for i in range(1,9):\n",
    "    for j in range(0,4):\n",
    "        if a['Unnamed: 44'][i] ==  qd_code[j] and a['月'][i]== '超级家升档':\n",
    "            b[bn[j+19]][14] = a['Unnamed: 45'][i]            \n",
    "            \n",
    "            \n",
    "            \n",
    "for j in range(1,11):\n",
    "    for i in range(1,len(a)):\n",
    "        if a['渠道统计(超级家升档、承诺消费送自有产品)'][i] == j and a['Unnamed: 30'][i] == '承诺消费送自有产品':\n",
    "            if a['Unnamed: 31'][i] == qd_code[0]:\n",
    "                b['承诺消费送自有产品'][j+1] = a['Unnamed: 32'][i]\n",
    "            if a['Unnamed: 31'][i] == qd_code[1]:\n",
    "                b['Unnamed: 25'][j+1] = a['Unnamed: 32'][i]\n",
    "            if a['Unnamed: 31'][i] == qd_code[2]:\n",
    "                b['Unnamed: 26'][j+1] = a['Unnamed: 32'][i]\n",
    "            if a['Unnamed: 31'][i] == qd_code[3]:\n",
    "                b['Unnamed: 27'][j+1] = a['Unnamed: 32'][i]\n",
    "for i in range(1,9):\n",
    "    for j in range(0,4):\n",
    "        if a['Unnamed: 37'][i] == qd_code[j] and a['渠道统计(超级家升档、承诺消费送自有产品)合计'][i] == '承诺消费送自有产品':\n",
    "            b[bn[j+23]][13] = a['Unnamed: 38'][i]\n",
    "            b[bn[j+23]][12] = a['Unnamed: 39'][i]  \n",
    "for i in range(1,9):\n",
    "    for j in range(0,4):\n",
    "        if a['Unnamed: 44'][i] ==  qd_code[j] and a['月'][i]== '承诺消费送自有产品':\n",
    "            b[bn[j+23]][14] = a['Unnamed: 45'][i]     \n",
    "\n",
    "            \n",
    "for i in range(2,13):\n",
    "    b['Unnamed: 18'][i] = a['Unnamed: 61'][i]\n",
    "\n",
    "b\n",
    "b.to_excel('E:\\亚信\\8-%s\\日报一套-最新版本/7月重点客户运营目标值及增收计划201908%s新版本--合计修改版.xlsx')%(dt,dt)"
   ]
  },
  {
   "cell_type": "code",
   "execution_count": null,
   "metadata": {},
   "outputs": [],
   "source": []
  }
 ],
 "metadata": {
  "kernelspec": {
   "display_name": "Python 3",
   "language": "python",
   "name": "python3"
  },
  "language_info": {
   "codemirror_mode": {
    "name": "ipython",
    "version": 3
   },
   "file_extension": ".py",
   "mimetype": "text/x-python",
   "name": "python",
   "nbconvert_exporter": "python",
   "pygments_lexer": "ipython3",
   "version": "3.6.5"
  }
 },
 "nbformat": 4,
 "nbformat_minor": 2
}
